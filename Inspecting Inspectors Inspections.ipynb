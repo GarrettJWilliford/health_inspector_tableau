{
 "cells": [
  {
   "cell_type": "markdown",
   "metadata": {},
   "source": [
    "# Inspecting Inspectors Inspections"
   ]
  },
  {
   "cell_type": "markdown",
   "metadata": {},
   "source": [
    "## The Goal"
   ]
  },
  {
   "cell_type": "markdown",
   "metadata": {},
   "source": [
    "The Goal was originaly to create a model that predicted health inspection scores using yelp reviews, however it pivoted to a critique of the health department and how they were conducting inspections.\n",
    "\n",
    "The original project\n",
    "\n",
    "https://github.com/JGMP-Yelp/yelpproject"
   ]
  },
  {
   "cell_type": "markdown",
   "metadata": {},
   "source": [
    "## Number of Violations to Number of Records By Inspector"
   ]
  },
  {
   "cell_type": "markdown",
   "metadata": {},
   "source": [
    "This graph demonstrates the number of violations to number of records, with a hue of inspector.\n",
    "\n",
    "Its meant to vizulize the large variablity in violations given. Some inspectors are giving thousands more violations then others while visiting the same amount of locations. The biggest example being 2,709 violations given with an inspection difference of 1."
   ]
  },
  {
   "cell_type": "markdown",
   "metadata": {},
   "source": [
    "## Violations Given per Weekday"
   ]
  },
  {
   "cell_type": "markdown",
   "metadata": {},
   "source": [
    "This bar chart shows the average violations given by weekday. While monday has the highest average violation score, the weekends have the lowest. This presents the idea that the inspectors mood may have a slight impact on violations."
   ]
  },
  {
   "cell_type": "markdown",
   "metadata": {},
   "source": [
    "## Top Inspectors by Mean Violations"
   ]
  },
  {
   "cell_type": "markdown",
   "metadata": {},
   "source": [
    "This shows the Inspectors with average violation scores over 3.5. There appears to be a jump in violations from 5 to 6.8 on the top 4 inspectors, with the top inspector giving out almost 8 violations per inspection"
   ]
  },
  {
   "cell_type": "markdown",
   "metadata": {},
   "source": [
    "## Inspectors with mean scores over 95"
   ]
  },
  {
   "cell_type": "markdown",
   "metadata": {},
   "source": [
    "There are 3 inspectors with means of 98, with 30 out of 37 health inspectors being above 95. Meaning a large majority of inspectors have averages sitting at a near perfect scores."
   ]
  },
  {
   "cell_type": "markdown",
   "metadata": {},
   "source": [
    "## Number of Records per Sector/Violations per Sector"
   ]
  },
  {
   "cell_type": "markdown",
   "metadata": {},
   "source": [
    "This is used to show some sectors having far more violations then visits. While this would suggest that location has a direct effect on health score, 89% of each sector is covered by the same inspector(on average)"
   ]
  },
  {
   "cell_type": "code",
   "execution_count": null,
   "metadata": {},
   "outputs": [],
   "source": []
  }
 ],
 "metadata": {
  "kernelspec": {
   "display_name": "Python 3",
   "language": "python",
   "name": "python3"
  },
  "language_info": {
   "codemirror_mode": {
    "name": "ipython",
    "version": 3
   },
   "file_extension": ".py",
   "mimetype": "text/x-python",
   "name": "python",
   "nbconvert_exporter": "python",
   "pygments_lexer": "ipython3",
   "version": "3.7.3"
  }
 },
 "nbformat": 4,
 "nbformat_minor": 2
}
