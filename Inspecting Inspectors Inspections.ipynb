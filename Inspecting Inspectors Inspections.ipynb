{
 "cells": [
  {
   "cell_type": "markdown",
   "metadata": {},
   "source": [
    "# Inspecting Inspectors Inspections"
   ]
  },
  {
   "cell_type": "markdown",
   "metadata": {},
   "source": [
    "## The Goal"
   ]
  },
  {
   "cell_type": "markdown",
   "metadata": {},
   "source": [
    "The Goal of the original project was to create a model that predicted health inspection scores using yelp reviews, however it pivoted to a critique of the health department and how they were conducting inspections. These tableau graphs are meant to demonstrate the data in such a way that it is comprehensible at first glance.\n",
    "\n",
    "The original project\n",
    "\n",
    "https://github.com/JGMP-Yelp/yelpproject"
   ]
  },
  {
   "cell_type": "markdown",
   "metadata": {},
   "source": [
    "## The Pipeline"
   ]
  },
  {
   "cell_type": "markdown",
   "metadata": {},
   "source": [
    "### Acquire"
   ]
  },
  {
   "cell_type": "markdown",
   "metadata": {},
   "source": [
    "Acquiring the data took alot of time and patience. The 2019 data was broken into 12 different excel sheets. While the the health inspection scores were clearly listed, things like inspector name and number of violations were stored in unique url's, which was an issue because there were over 13 thousand values. A PhantomJS webscraper was deployed, however all documents were hosted on the same server(and a slow one at that) and took a week of non stop webscraping to acquire all values"
   ]
  },
  {
   "cell_type": "markdown",
   "metadata": {},
   "source": [
    "### Prep"
   ]
  },
  {
   "cell_type": "markdown",
   "metadata": {},
   "source": [
    "Due to the nature of the acquire phase, preparing the data was relatively easy. When pulling the data from the url sheet me and my team only pulled values considerd useful in exploration. All that was left was dropping columns containing urls and creating a new column that transformed the list of violations into a count"
   ]
  },
  {
   "cell_type": "markdown",
   "metadata": {},
   "source": [
    "### Explore"
   ]
  },
  {
   "cell_type": "markdown",
   "metadata": {},
   "source": [
    "When exploring the data we found that health inspector had the biggest impact on inspection score. This was surmised due to reduction and feature engineering. At first we attempted creating multiple features trying to improve our model, Including food category, wether it was a fast food establishment, a hotel, if it was a new resturant, ect, and yet we found the biggest corrolating values were sector and inspector. At first we assumed it must be location, until we found that health inspectors do not rotate sectors, meaning one health inspector inspects a majority of a sector"
   ]
  },
  {
   "cell_type": "markdown",
   "metadata": {},
   "source": [
    "## Explaning the Graphs "
   ]
  },
  {
   "cell_type": "markdown",
   "metadata": {},
   "source": [
    "### Number of Violations to Number of Records By Inspector"
   ]
  },
  {
   "cell_type": "markdown",
   "metadata": {},
   "source": [
    "This graph demonstrates the number of violations to number of records, with a hue of inspector.\n",
    "\n",
    "Its meant to vizulize the large variablity in violations given. Some inspectors are giving thousands more violations then others while visiting the same amount of locations. The biggest example being 2,709 violations given with an inspection difference of 1."
   ]
  },
  {
   "cell_type": "markdown",
   "metadata": {},
   "source": [
    "### Violations Given per Weekday"
   ]
  },
  {
   "cell_type": "markdown",
   "metadata": {},
   "source": [
    "This bar chart shows the average violations given by weekday. While monday has the highest average violation score, the weekends have the lowest. This presents the idea that the inspectors mood may have a slight impact on violations."
   ]
  },
  {
   "cell_type": "markdown",
   "metadata": {},
   "source": [
    "### Top Inspectors by Mean Violations"
   ]
  },
  {
   "cell_type": "markdown",
   "metadata": {},
   "source": [
    "This shows the Inspectors with average violation scores over 3.5. There appears to be a jump in violations from 5 to 6.8 on the top 4 inspectors, with the top inspector giving out almost 8 violations per inspection"
   ]
  },
  {
   "cell_type": "markdown",
   "metadata": {},
   "source": [
    "### Inspectors with mean scores over 95"
   ]
  },
  {
   "cell_type": "markdown",
   "metadata": {},
   "source": [
    "There are 3 inspectors with means of 98, with 30 out of 37 health inspectors being above 95. Meaning a large majority of inspectors have averages sitting at a near perfect scores."
   ]
  },
  {
   "cell_type": "markdown",
   "metadata": {},
   "source": [
    "### Number of Records per Sector/Violations per Sector"
   ]
  },
  {
   "cell_type": "markdown",
   "metadata": {},
   "source": [
    "This is used to show some sectors having far more violations then visits. While this would suggest that location has a direct effect on health score, 89% of each sector is covered by the same inspector(on average)"
   ]
  }
 ],
 "metadata": {
  "kernelspec": {
   "display_name": "Python 3",
   "language": "python",
   "name": "python3"
  },
  "language_info": {
   "codemirror_mode": {
    "name": "ipython",
    "version": 3
   },
   "file_extension": ".py",
   "mimetype": "text/x-python",
   "name": "python",
   "nbconvert_exporter": "python",
   "pygments_lexer": "ipython3",
   "version": "3.7.3"
  }
 },
 "nbformat": 4,
 "nbformat_minor": 2
}
